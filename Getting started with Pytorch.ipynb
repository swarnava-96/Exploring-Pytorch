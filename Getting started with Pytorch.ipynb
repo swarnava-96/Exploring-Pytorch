{
 "cells": [
  {
   "cell_type": "markdown",
   "id": "14f9c67c",
   "metadata": {},
   "source": [
    "### Getting started with Pytorch\n",
    "Tensors Basics\n",
    "\n",
    "A tensor is a generalization of vectors and matrices and is easily understood as a multidimensional array.It is a term and set of techniques known in machine learning in the training and operation of deep learning models can be described in terms of tensors. In many cases tensors are used as a replacement for NumPy to use the power of GPUs.\n",
    "\n",
    "Tensors are a type of data structure used in linear algebra, and like vectors and matrices, you can calculate arithmetic operations with tensors."
   ]
  },
  {
   "cell_type": "code",
   "execution_count": 1,
   "id": "9c40b656",
   "metadata": {},
   "outputs": [],
   "source": [
    "# Lets import torch\n",
    "import torch"
   ]
  },
  {
   "cell_type": "code",
   "execution_count": 2,
   "id": "ad4cc286",
   "metadata": {},
   "outputs": [
    {
     "data": {
      "text/plain": [
       "'1.5.1+cpu'"
      ]
     },
     "execution_count": 2,
     "metadata": {},
     "output_type": "execute_result"
    }
   ],
   "source": [
    "# Lets check the version before using\n",
    "torch.__version__"
   ]
  },
  {
   "cell_type": "code",
   "execution_count": 3,
   "id": "f40e9a2b",
   "metadata": {},
   "outputs": [],
   "source": [
    "# Lets import numpy\n",
    "import numpy as np"
   ]
  },
  {
   "cell_type": "code",
   "execution_count": 5,
   "id": "31aaa5c9",
   "metadata": {},
   "outputs": [],
   "source": [
    "# List\n",
    "list = [3,4,5,6]"
   ]
  },
  {
   "cell_type": "code",
   "execution_count": 6,
   "id": "d841fe2e",
   "metadata": {},
   "outputs": [],
   "source": [
    "# Converting list into array\n",
    "arr = np.array(list)"
   ]
  },
  {
   "cell_type": "code",
   "execution_count": 7,
   "id": "44fe8fd9",
   "metadata": {},
   "outputs": [
    {
     "data": {
      "text/plain": [
       "dtype('int32')"
      ]
     },
     "execution_count": 7,
     "metadata": {},
     "output_type": "execute_result"
    }
   ],
   "source": [
    "# Lets see the shape of the array\n",
    "arr.dtype"
   ]
  },
  {
   "cell_type": "markdown",
   "id": "d02553d9",
   "metadata": {},
   "source": [
    "### Converting Numpy arrays into Pytorch tensors"
   ]
  },
  {
   "cell_type": "code",
   "execution_count": 8,
   "id": "eb4af8d1",
   "metadata": {},
   "outputs": [
    {
     "data": {
      "text/plain": [
       "tensor([3, 4, 5, 6], dtype=torch.int32)"
      ]
     },
     "execution_count": 8,
     "metadata": {},
     "output_type": "execute_result"
    }
   ],
   "source": [
    "# Converting the Numpy array to tensor\n",
    "tensors = torch.from_numpy(arr)\n",
    "tensors"
   ]
  },
  {
   "cell_type": "code",
   "execution_count": 9,
   "id": "3f1e7bab",
   "metadata": {},
   "outputs": [
    {
     "data": {
      "text/plain": [
       "tensor([3, 4], dtype=torch.int32)"
      ]
     },
     "execution_count": 9,
     "metadata": {},
     "output_type": "execute_result"
    }
   ],
   "source": [
    "# Indexing\n",
    "tensors[0:2]"
   ]
  },
  {
   "cell_type": "code",
   "execution_count": 10,
   "id": "da1382dd",
   "metadata": {},
   "outputs": [
    {
     "data": {
      "text/plain": [
       "tensor([4, 5, 6], dtype=torch.int32)"
      ]
     },
     "execution_count": 10,
     "metadata": {},
     "output_type": "execute_result"
    }
   ],
   "source": [
    "tensors[1:4]"
   ]
  },
  {
   "cell_type": "code",
   "execution_count": 11,
   "id": "0a22c9ac",
   "metadata": {},
   "outputs": [],
   "source": [
    "# Disadvantage of from_numpy. The array and tensor uses the same memory location\n",
    "tensors[3] = 100"
   ]
  },
  {
   "cell_type": "code",
   "execution_count": 15,
   "id": "2e6ad258",
   "metadata": {},
   "outputs": [
    {
     "data": {
      "text/plain": [
       "array([  3,   4,   5, 100])"
      ]
     },
     "execution_count": 15,
     "metadata": {},
     "output_type": "execute_result"
    }
   ],
   "source": [
    "# Lets check the array \n",
    "arr"
   ]
  },
  {
   "cell_type": "markdown",
   "id": "b8422a76",
   "metadata": {},
   "source": [
    "We can see the change also happened in the numpy array as well as both are using the same memory location."
   ]
  },
  {
   "cell_type": "code",
   "execution_count": 16,
   "id": "f58bb9d1",
   "metadata": {},
   "outputs": [
    {
     "data": {
      "text/plain": [
       "tensor([  3,   4,   5, 100], dtype=torch.int32)"
      ]
     },
     "execution_count": 16,
     "metadata": {},
     "output_type": "execute_result"
    }
   ],
   "source": [
    "# In order to prevent the above set of actions we use\n",
    "tensor_arr = torch.tensor(arr)\n",
    "tensor_arr"
   ]
  },
  {
   "cell_type": "code",
   "execution_count": 19,
   "id": "88c10083",
   "metadata": {},
   "outputs": [
    {
     "name": "stdout",
     "output_type": "stream",
     "text": [
      "tensor([  3,   4,   5, 120], dtype=torch.int32)\n",
      "[  3   4   5 100]\n"
     ]
    }
   ],
   "source": [
    "# Lets again replace some elements from the tensor and see whether it impacts the numpy array or not\n",
    "tensor_arr[3] = 120\n",
    "print(tensor_arr)\n",
    "print(arr)"
   ]
  },
  {
   "cell_type": "markdown",
   "id": "3ebe42dc",
   "metadata": {},
   "source": [
    "We can see from the above output that the change happened only with the tensor."
   ]
  },
  {
   "cell_type": "code",
   "execution_count": 20,
   "id": "17d9c7bb",
   "metadata": {},
   "outputs": [
    {
     "data": {
      "text/plain": [
       "tensor([[0., 0., 0.],\n",
       "        [0., 0., 0.]], dtype=torch.float64)"
      ]
     },
     "execution_count": 20,
     "metadata": {},
     "output_type": "execute_result"
    }
   ],
   "source": [
    "# Zeros and ones\n",
    "torch.zeros(2,3,dtype = torch.float64)"
   ]
  },
  {
   "cell_type": "code",
   "execution_count": 21,
   "id": "9258e2fd",
   "metadata": {},
   "outputs": [
    {
     "data": {
      "text/plain": [
       "tensor([[1., 1., 1.],\n",
       "        [1., 1., 1.]], dtype=torch.float64)"
      ]
     },
     "execution_count": 21,
     "metadata": {},
     "output_type": "execute_result"
    }
   ],
   "source": [
    "torch.ones(2,3,dtype = torch.float64)"
   ]
  },
  {
   "cell_type": "code",
   "execution_count": 31,
   "id": "eb9390c3",
   "metadata": {},
   "outputs": [
    {
     "name": "stdout",
     "output_type": "stream",
     "text": [
      "tensor([[ 0,  1,  2],\n",
      "        [ 3,  4,  5],\n",
      "        [ 6,  7,  8],\n",
      "        [ 9, 10, 11],\n",
      "        [12, 13, 14]], dtype=torch.int32)\n"
     ]
    }
   ],
   "source": [
    "# Creating a 2D array\n",
    "a = torch.tensor(np.arange(0,15).reshape(5,3))\n",
    "print(a)"
   ]
  },
  {
   "cell_type": "code",
   "execution_count": 30,
   "id": "04d4c866",
   "metadata": {},
   "outputs": [
    {
     "data": {
      "text/plain": [
       "tensor([[0, 1, 2]], dtype=torch.int32)"
      ]
     },
     "execution_count": 30,
     "metadata": {},
     "output_type": "execute_result"
    }
   ],
   "source": [
    "# Indexing\n",
    "a[0:1]"
   ]
  },
  {
   "cell_type": "markdown",
   "id": "a525940b",
   "metadata": {},
   "source": [
    "### Arithmatic Operations"
   ]
  },
  {
   "cell_type": "code",
   "execution_count": 32,
   "id": "898bc643",
   "metadata": {},
   "outputs": [
    {
     "name": "stdout",
     "output_type": "stream",
     "text": [
      "tensor([ 7.,  9., 11.])\n"
     ]
    }
   ],
   "source": [
    "# Addition\n",
    "a = torch.tensor([3,4,5], dtype = torch.float)\n",
    "b = torch.tensor([4,5,6], dtype = torch.float)\n",
    "print(a + b)"
   ]
  },
  {
   "cell_type": "code",
   "execution_count": 33,
   "id": "1222246b",
   "metadata": {},
   "outputs": [
    {
     "data": {
      "text/plain": [
       "tensor(27.)"
      ]
     },
     "execution_count": 33,
     "metadata": {},
     "output_type": "execute_result"
    }
   ],
   "source": [
    "# Sum function\n",
    "torch.add(a,b).sum()"
   ]
  },
  {
   "cell_type": "code",
   "execution_count": 34,
   "id": "428574ba",
   "metadata": {},
   "outputs": [],
   "source": [
    "# Lets create a varible to store values\n",
    "c = torch.zeros(3)"
   ]
  },
  {
   "cell_type": "code",
   "execution_count": 35,
   "id": "9c5a2574",
   "metadata": {},
   "outputs": [
    {
     "data": {
      "text/plain": [
       "tensor([0., 0., 0.])"
      ]
     },
     "execution_count": 35,
     "metadata": {},
     "output_type": "execute_result"
    }
   ],
   "source": [
    "# Lets check the initial c values\n",
    "c"
   ]
  },
  {
   "cell_type": "code",
   "execution_count": 36,
   "id": "328993af",
   "metadata": {},
   "outputs": [
    {
     "data": {
      "text/plain": [
       "tensor([ 7.,  9., 11.])"
      ]
     },
     "execution_count": 36,
     "metadata": {},
     "output_type": "execute_result"
    }
   ],
   "source": [
    "# Lets store the values\n",
    "torch.add(a,b,out = c)"
   ]
  },
  {
   "cell_type": "code",
   "execution_count": 37,
   "id": "47c5ca60",
   "metadata": {},
   "outputs": [
    {
     "data": {
      "text/plain": [
       "tensor([ 7.,  9., 11.])"
      ]
     },
     "execution_count": 37,
     "metadata": {},
     "output_type": "execute_result"
    }
   ],
   "source": [
    "# Lets see c \n",
    "c"
   ]
  },
  {
   "cell_type": "code",
   "execution_count": 38,
   "id": "fc308135",
   "metadata": {},
   "outputs": [
    {
     "data": {
      "text/plain": [
       "tensor([12., 20., 30.])"
      ]
     },
     "execution_count": 38,
     "metadata": {},
     "output_type": "execute_result"
    }
   ],
   "source": [
    "# Multiplication\n",
    "x = torch.tensor([3,4,5],dtype = torch.float)\n",
    "y = torch.tensor([4,5,6],dtype = torch.float)\n",
    "x.mul(y)"
   ]
  },
  {
   "cell_type": "code",
   "execution_count": 39,
   "id": "6bf5b870",
   "metadata": {},
   "outputs": [
    {
     "data": {
      "text/plain": [
       "tensor(62.)"
      ]
     },
     "execution_count": 39,
     "metadata": {},
     "output_type": "execute_result"
    }
   ],
   "source": [
    "# Dot product\n",
    "x.dot(y)"
   ]
  },
  {
   "cell_type": "code",
   "execution_count": 41,
   "id": "eb84c7cd",
   "metadata": {},
   "outputs": [
    {
     "data": {
      "text/plain": [
       "tensor([[55., 53.],\n",
       "        [90., 92.]])"
      ]
     },
     "execution_count": 41,
     "metadata": {},
     "output_type": "execute_result"
    }
   ],
   "source": [
    "# Matrix multiplication\n",
    "x = torch.tensor([[1,4,2], [1,5,5]], dtype = torch.float)\n",
    "y = torch.tensor([[5,7], [8,6], [9,11]],dtype = torch.float)\n",
    "torch.matmul(x,y)"
   ]
  },
  {
   "cell_type": "code",
   "execution_count": 43,
   "id": "30fb71f6",
   "metadata": {},
   "outputs": [
    {
     "data": {
      "text/plain": [
       "tensor([[55., 53.],\n",
       "        [90., 92.]])"
      ]
     },
     "execution_count": 43,
     "metadata": {},
     "output_type": "execute_result"
    }
   ],
   "source": [
    "# We can also use mm\n",
    "torch.mm(x,y)"
   ]
  },
  {
   "cell_type": "code",
   "execution_count": 44,
   "id": "d30f775e",
   "metadata": {},
   "outputs": [
    {
     "data": {
      "text/plain": [
       "tensor([[55., 53.],\n",
       "        [90., 92.]])"
      ]
     },
     "execution_count": 44,
     "metadata": {},
     "output_type": "execute_result"
    }
   ],
   "source": [
    "# x@y can also be used\n",
    "x@y"
   ]
  }
 ],
 "metadata": {
  "kernelspec": {
   "display_name": "Python 3 (ipykernel)",
   "language": "python",
   "name": "python3"
  },
  "language_info": {
   "codemirror_mode": {
    "name": "ipython",
    "version": 3
   },
   "file_extension": ".py",
   "mimetype": "text/x-python",
   "name": "python",
   "nbconvert_exporter": "python",
   "pygments_lexer": "ipython3",
   "version": "3.7.11"
  }
 },
 "nbformat": 4,
 "nbformat_minor": 5
}
