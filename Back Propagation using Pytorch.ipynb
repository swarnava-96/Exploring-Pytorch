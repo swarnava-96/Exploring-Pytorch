{
 "cells": [
  {
   "cell_type": "markdown",
   "id": "96e5799d",
   "metadata": {},
   "source": [
    "# Back Propagation using Pytorch"
   ]
  },
  {
   "cell_type": "code",
   "execution_count": 9,
   "id": "274e19b7",
   "metadata": {},
   "outputs": [],
   "source": [
    "# Lets import torch\n",
    "import torch"
   ]
  },
  {
   "cell_type": "code",
   "execution_count": 10,
   "id": "83ce4ed9",
   "metadata": {},
   "outputs": [
    {
     "data": {
      "text/plain": [
       "'1.5.1+cpu'"
      ]
     },
     "execution_count": 10,
     "metadata": {},
     "output_type": "execute_result"
    }
   ],
   "source": [
    "# Version check\n",
    "torch.__version__"
   ]
  },
  {
   "cell_type": "code",
   "execution_count": 11,
   "id": "8fbfdad4",
   "metadata": {},
   "outputs": [],
   "source": [
    "# Lets create a tensor of 4 with gradient as True\n",
    "x = torch.tensor(4.0, requires_grad = True)"
   ]
  },
  {
   "cell_type": "code",
   "execution_count": 12,
   "id": "f45197cb",
   "metadata": {},
   "outputs": [
    {
     "data": {
      "text/plain": [
       "tensor(4., requires_grad=True)"
      ]
     },
     "execution_count": 12,
     "metadata": {},
     "output_type": "execute_result"
    }
   ],
   "source": [
    "# Lets see our x\n",
    "x"
   ]
  },
  {
   "cell_type": "code",
   "execution_count": 13,
   "id": "e370f726",
   "metadata": {},
   "outputs": [
    {
     "data": {
      "text/plain": [
       "tensor(16., grad_fn=<PowBackward0>)"
      ]
     },
     "execution_count": 13,
     "metadata": {},
     "output_type": "execute_result"
    }
   ],
   "source": [
    "# Lets define an equation y=x^2\n",
    "y = x**2\n",
    "# Lets see y\n",
    "y"
   ]
  },
  {
   "cell_type": "code",
   "execution_count": 14,
   "id": "b92252ef",
   "metadata": {},
   "outputs": [],
   "source": [
    "# Lets perform back propagation\n",
    "y.backward()"
   ]
  },
  {
   "cell_type": "code",
   "execution_count": 15,
   "id": "4aa3f3cf",
   "metadata": {},
   "outputs": [
    {
     "data": {
      "text/plain": [
       "tensor(8.)"
      ]
     },
     "execution_count": 15,
     "metadata": {},
     "output_type": "execute_result"
    }
   ],
   "source": [
    "# Lets see the result\n",
    "x.grad"
   ]
  },
  {
   "cell_type": "code",
   "execution_count": 16,
   "id": "cc6fc4ca",
   "metadata": {},
   "outputs": [],
   "source": [
    "# Lets perform some complex functions\n",
    "list = [[2.,3.,1.], [4.,5.,3.], [7.,6.,4.]]\n",
    "torch_input = torch.tensor(list, requires_grad = True)"
   ]
  },
  {
   "cell_type": "code",
   "execution_count": 17,
   "id": "51df4c01",
   "metadata": {},
   "outputs": [
    {
     "data": {
      "text/plain": [
       "tensor([[2., 3., 1.],\n",
       "        [4., 5., 3.],\n",
       "        [7., 6., 4.]], requires_grad=True)"
      ]
     },
     "execution_count": 17,
     "metadata": {},
     "output_type": "execute_result"
    }
   ],
   "source": [
    "# Lets see\n",
    "torch_input"
   ]
  },
  {
   "cell_type": "code",
   "execution_count": 19,
   "id": "f8351594",
   "metadata": {},
   "outputs": [],
   "source": [
    "# y=x**3+x**2\n",
    "y = torch_input**3 + torch_input**2"
   ]
  },
  {
   "cell_type": "code",
   "execution_count": 20,
   "id": "7a200bb1",
   "metadata": {},
   "outputs": [
    {
     "data": {
      "text/plain": [
       "tensor([[ 12.,  36.,   2.],\n",
       "        [ 80., 150.,  36.],\n",
       "        [392., 252.,  80.]], grad_fn=<AddBackward0>)"
      ]
     },
     "execution_count": 20,
     "metadata": {},
     "output_type": "execute_result"
    }
   ],
   "source": [
    "# Lets see y\n",
    "y"
   ]
  },
  {
   "cell_type": "code",
   "execution_count": 21,
   "id": "bbc76e9c",
   "metadata": {},
   "outputs": [],
   "source": [
    "# Lets sum the above matrix\n",
    "z = y.sum()"
   ]
  },
  {
   "cell_type": "code",
   "execution_count": 22,
   "id": "078ee38a",
   "metadata": {},
   "outputs": [
    {
     "data": {
      "text/plain": [
       "tensor(1040., grad_fn=<SumBackward0>)"
      ]
     },
     "execution_count": 22,
     "metadata": {},
     "output_type": "execute_result"
    }
   ],
   "source": [
    "# lets see z\n",
    "z"
   ]
  },
  {
   "cell_type": "code",
   "execution_count": 24,
   "id": "8040c912",
   "metadata": {},
   "outputs": [],
   "source": [
    "# Back propagation\n",
    "z.backward()"
   ]
  },
  {
   "cell_type": "code",
   "execution_count": 26,
   "id": "9c7b022e",
   "metadata": {},
   "outputs": [
    {
     "data": {
      "text/plain": [
       "tensor([[ 16.,  33.,   5.],\n",
       "        [ 56.,  85.,  33.],\n",
       "        [161., 120.,  56.]])"
      ]
     },
     "execution_count": 26,
     "metadata": {},
     "output_type": "execute_result"
    }
   ],
   "source": [
    "# Lets see the result\n",
    "torch_input.grad"
   ]
  }
 ],
 "metadata": {
  "kernelspec": {
   "display_name": "Python 3 (ipykernel)",
   "language": "python",
   "name": "python3"
  },
  "language_info": {
   "codemirror_mode": {
    "name": "ipython",
    "version": 3
   },
   "file_extension": ".py",
   "mimetype": "text/x-python",
   "name": "python",
   "nbconvert_exporter": "python",
   "pygments_lexer": "ipython3",
   "version": "3.7.11"
  }
 },
 "nbformat": 4,
 "nbformat_minor": 5
}
